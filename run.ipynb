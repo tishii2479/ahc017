{
 "cells": [
  {
   "cell_type": "code",
   "execution_count": 111,
   "metadata": {},
   "outputs": [],
   "source": [
    "from run import run\n",
    "import pandas as pd"
   ]
  },
  {
   "cell_type": "code",
   "execution_count": 112,
   "metadata": {},
   "outputs": [
    {
     "name": "stderr",
     "output_type": "stream",
     "text": [
      "   Compiling ahc017 v0.1.0 (/Users/tatsuyaishii/dev/heuristics-contests/ahc017)\n",
      "    Finished release [optimized] target(s) in 0.44s\n"
     ]
    },
    {
     "name": "stdout",
     "output_type": "stream",
     "text": [
      "case   7: (score:     6,826,396, current ave:    6,826,396.00, N =  518, M = 1094, D = 18, K =  77)\n",
      "case   2: (score:    22,293,213, current ave:   14,559,804.50, N =  898, M = 1576, D =  8, K = 356)\n",
      "case   4: (score:     7,791,245, current ave:   12,303,618.00, N =  700, M = 1500, D = 14, K = 112)\n",
      "case   1: (score:     7,474,480, current ave:   11,096,333.50, N =  623, M = 1146, D = 25, K =  70)\n",
      "case   3: (score:    11,607,002, current ave:   11,198,467.20, N =  830, M = 1605, D = 12, K = 209)\n",
      "case   5: (score:     3,289,424, current ave:    9,880,293.33, N =  566, M = 1350, D = 27, K =  56)\n",
      "case   6: (score:     4,325,082, current ave:    9,086,691.71, N =  647, M = 1376, D = 28, K =  70)\n",
      "case   0: (score:     4,527,294, current ave:    8,516,767.00, N =  791, M = 2277, D = 11, K = 361)\n",
      "case  10: (score:    21,649,602, current ave:    9,975,970.89, N =  576, M = 1066, D =  8, K = 264)\n",
      "case  12: (score:    40,579,797, current ave:   13,036,353.50, N =  657, M = 1167, D =  5, K = 312)\n",
      "case  11: (score:     9,213,167, current ave:   12,688,791.09, N =  503, M = 1036, D = 14, K =  86)\n",
      "case   9: (score:     8,129,287, current ave:   12,308,832.42, N =  776, M = 1428, D = 20, K = 133)\n",
      "case  15: (score:     6,615,159, current ave:   11,870,857.54, N =  663, M = 1225, D = 25, K =  87)\n",
      "case  14: (score:     9,076,580, current ave:   11,671,266.29, N =  811, M = 1519, D = 17, K = 128)\n",
      "case   8: (score:     3,619,677, current ave:   11,134,493.67, N =  814, M = 1817, D = 26, K =  84)\n",
      "case  13: (score:     2,341,357, current ave:   10,584,922.62, N =  754, M = 1949, D = 28, K = 116)\n",
      "case  18: (score:     2,963,618, current ave:   10,136,610.59, N =  656, M = 1728, D = 22, K =  92)\n",
      "case  21: (score:    41,218,315, current ave:   11,863,371.94, N =  772, M = 1349, D =  5, K = 384)\n",
      "case  16: (score:     6,079,293, current ave:   11,558,946.74, N =  785, M = 1453, D = 27, K =  61)\n",
      "case  22: (score:    11,361,928, current ave:   11,549,095.80, N =  607, M = 1174, D = 14, K = 104)\n",
      "case  20: (score:     8,674,572, current ave:   11,412,213.71, N =  661, M = 1453, D = 12, K = 241)\n",
      "case  17: (score:     5,842,658, current ave:   11,159,052.09, N =  856, M = 1570, D = 29, K =  80)\n",
      "case  19: (score:     8,416,480, current ave:   11,039,809.83, N =  897, M = 1569, D = 22, K = 101)\n",
      "case  23: (score:    25,137,005, current ave:   11,627,192.96, N =  824, M = 1493, D =  7, K = 240)\n",
      "case  24: (score:     4,381,074, current ave:   11,337,348.20, N =  625, M = 1702, D = 14, K = 175)\n",
      "case  25: (score:     6,173,783, current ave:   11,138,749.54, N =  520, M = 1053, D = 23, K =  52)\n",
      "case  26: (score:     8,760,172, current ave:   11,050,654.07, N =  562, M = 1236, D = 13, K = 108)\n",
      "case  27: (score:     5,212,786, current ave:   10,842,158.79, N =  610, M = 1323, D = 22, K =  96)\n",
      "case  28: (score:     4,947,706, current ave:   10,638,901.79, N =  650, M = 1282, D = 29, K =  66)\n",
      "case  29: (score:     3,252,496, current ave:   10,392,688.27, N =  636, M = 1477, D = 27, K =  64)\n",
      "case  31: (score:     8,576,994, current ave:   10,334,117.48, N =  514, M =  964, D = 21, K =  79)\n",
      "case  30: (score:     2,284,591, current ave:   10,082,569.78, N =  989, M = 2757, D = 22, K = 162)\n",
      "case  32: (score:    57,034,114, current ave:   11,505,343.85, N =  517, M =  866, D =  5, K = 310)\n",
      "case  34: (score:    34,621,463, current ave:   12,185,229.71, N =  802, M = 1339, D =  7, K = 221)\n",
      "case  33: (score:    10,693,908, current ave:   12,142,620.51, N =  713, M = 1414, D = 13, K = 190)\n",
      "case  36: (score:    35,209,489, current ave:   12,783,366.86, N =  552, M =  966, D =  6, K = 267)\n",
      "case  35: (score:     2,031,536, current ave:   12,492,776.84, N =  586, M = 1593, D = 30, K =  97)\n",
      "case  38: (score:     4,662,718, current ave:   12,286,722.66, N =  681, M = 1376, D = 29, K =  56)\n",
      "case  37: (score:     1,911,211, current ave:   12,020,683.90, N =  786, M = 2218, D = 27, K = 120)\n",
      "case  39: (score:     4,431,606, current ave:   11,830,956.95, N =  922, M = 2623, D = 11, K = 368)\n",
      "case  41: (score:    26,032,001, current ave:   12,177,323.88, N =  652, M = 1257, D =  6, K = 283)\n",
      "case  43: (score:    26,118,218, current ave:   12,509,249.93, N =  667, M = 1161, D =  8, K = 235)\n",
      "case  40: (score:     5,423,371, current ave:   12,344,462.05, N =  902, M = 2317, D = 12, K = 288)\n",
      "case  42: (score:     7,157,660, current ave:   12,226,580.18, N =  780, M = 1404, D = 25, K =  58)\n",
      "case  44: (score:     3,164,089, current ave:   12,025,191.49, N =  548, M = 1302, D = 28, K =  67)\n",
      "case  45: (score:     8,048,137, current ave:   11,938,733.78, N =  773, M = 1585, D = 15, K = 139)\n",
      "case  46: (score:     5,467,819, current ave:   11,801,054.74, N =  513, M = 1191, D = 17, K = 131)\n",
      "case  47: (score:     2,858,887, current ave:   11,614,759.58, N = 1000, M = 2701, D = 19, K = 246)\n",
      "case  48: (score:    18,605,667, current ave:   11,757,431.16, N =  740, M = 1280, D = 11, K = 123)\n",
      "case  49: (score:     4,670,328, current ave:   11,615,689.10, N =  813, M = 1782, D = 21, K = 121)\n",
      "case  51: (score:     9,792,569, current ave:   11,579,941.65, N =  708, M = 1342, D = 17, K =  89)\n",
      "case  50: (score:     3,028,854, current ave:   11,415,497.65, N =  876, M = 2562, D = 15, K = 174)\n",
      "case  53: (score:    10,104,924, current ave:   11,390,769.85, N =  771, M = 2208, D =  5, K = 545)\n",
      "case  54: (score:     3,359,493, current ave:   11,242,042.50, N =  639, M = 1762, D = 17, K = 170)\n",
      "case  52: (score:     1,846,072, current ave:   11,071,206.67, N =  843, M = 2353, D = 29, K = 146)\n",
      "case  55: (score:     5,029,766, current ave:   10,963,323.80, N =  840, M = 1805, D = 20, K =  93)\n",
      "case  56: (score:     5,424,570, current ave:   10,866,152.68, N =  713, M = 1399, D = 25, K =  63)\n",
      "case  58: (score:     7,618,246, current ave:   10,810,154.29, N =  786, M = 1359, D = 28, K =  82)\n",
      "case  60: (score:    11,153,737, current ave:   10,815,977.73, N =  611, M = 1053, D = 21, K =  83)\n",
      "case  57: (score:     3,871,792, current ave:   10,700,241.30, N =  813, M = 2132, D = 16, K = 217)\n",
      "case  59: (score:     9,323,053, current ave:   10,677,664.44, N =  857, M = 1604, D = 16, K = 139)\n",
      "case  61: (score:     2,249,703, current ave:   10,541,729.58, N =  642, M = 1769, D = 25, K = 113)\n",
      "case  62: (score:    11,414,358, current ave:   10,555,580.83, N =  641, M = 1681, D =  6, K = 484)\n",
      "case  63: (score:    10,346,779, current ave:   10,552,318.30, N =  599, M = 1153, D = 15, K =  84)\n",
      "case  64: (score:    17,038,820, current ave:   10,652,110.63, N =  513, M = 1088, D =  7, K = 301)\n",
      "case  66: (score:    16,148,782, current ave:   10,735,393.53, N =  594, M = 1023, D = 14, K = 147)\n",
      "case  68: (score:     7,893,402, current ave:   10,692,975.75, N =  704, M = 1203, D = 30, K =  63)\n",
      "case  67: (score:     3,053,288, current ave:   10,580,627.40, N =  779, M = 2106, D = 19, K = 216)\n",
      "case  69: (score:    21,609,898, current ave:   10,740,471.90, N =  681, M = 1176, D = 11, K = 117)\n",
      "case  65: (score:     1,553,435, current ave:   10,609,228.51, N =  769, M = 2262, D = 30, K = 147)\n",
      "case  70: (score:     6,509,623, current ave:   10,551,487.59, N =  916, M = 2258, D = 11, K = 385)\n",
      "case  71: (score:    10,986,210, current ave:   10,557,525.40, N =  512, M =  947, D = 17, K = 103)\n",
      "case  72: (score:     9,993,946, current ave:   10,549,805.14, N =  594, M = 1172, D = 14, K = 156)\n",
      "case  73: (score:     4,579,498, current ave:   10,469,125.31, N =  968, M = 2607, D = 12, K = 276)\n",
      "case  76: (score:    13,532,997, current ave:   10,509,976.93, N =  765, M = 1384, D = 13, K = 126)\n",
      "case  75: (score:     9,698,291, current ave:   10,499,296.86, N =  932, M = 1619, D = 21, K = 131)\n",
      "case  77: (score:     6,200,476, current ave:   10,443,468.01, N =  812, M = 1556, D = 24, K =  73)\n",
      "case  74: (score:     3,235,830, current ave:   10,351,062.40, N =  990, M = 2882, D = 14, K = 253)\n",
      "case  78: (score:     3,377,153, current ave:   10,262,785.06, N =  737, M = 1858, D = 21, K = 139)\n",
      "case  79: (score:    11,806,459, current ave:   10,282,080.99, N =  853, M = 2270, D =  5, K = 633)\n",
      "case  80: (score:     8,791,075, current ave:   10,263,673.51, N =  518, M =  917, D = 25, K =  67)\n",
      "case  82: (score:     3,457,013, current ave:   10,180,665.45, N =  684, M = 1590, D = 25, K = 108)\n",
      "case  81: (score:     5,212,435, current ave:   10,120,807.25, N =  954, M = 2107, D = 18, K = 189)\n",
      "case  83: (score:     5,687,223, current ave:   10,068,026.49, N =  794, M = 1783, D = 16, K = 169)\n",
      "case  85: (score:     4,689,805, current ave:   10,004,753.29, N =  749, M = 1809, D = 16, K = 115)\n",
      "case  84: (score:     5,280,113, current ave:    9,949,815.62, N =  847, M = 1586, D = 29, K =  68)\n",
      "case  86: (score:     3,842,114, current ave:    9,879,612.15, N =  587, M = 1300, D = 28, K =  84)\n",
      "case  87: (score:     3,846,844, current ave:    9,811,057.97, N =  814, M = 2262, D = 14, K = 292)\n",
      "case  88: (score:     4,441,589, current ave:    9,750,726.85, N =  901, M = 2277, D = 15, K = 261)\n",
      "case  89: (score:     5,852,265, current ave:    9,707,410.61, N =  750, M = 2201, D =  8, K = 439)\n",
      "case  91: (score:    43,851,665, current ave:   10,082,622.20, N =  506, M =  892, D =  5, K = 304)\n",
      "case  90: (score:     7,716,607, current ave:   10,056,904.64, N =  677, M = 1352, D = 17, K = 130)\n",
      "case  92: (score:    12,541,212, current ave:   10,083,617.62, N =  822, M = 1433, D = 15, K = 179)\n",
      "case  94: (score:    16,249,346, current ave:   10,149,210.48, N =  655, M = 1106, D = 14, K = 152)\n",
      "case  93: (score:     5,822,777, current ave:   10,103,669.07, N =  644, M = 1842, D =  9, K = 211)\n",
      "case  95: (score:    15,053,961, current ave:   10,155,234.61, N =  832, M = 2032, D =  5, K = 729)\n",
      "case  96: (score:    37,582,046, current ave:   10,437,985.25, N =  576, M = 1061, D =  5, K = 417)\n",
      "case  97: (score:    11,990,433, current ave:   10,453,826.55, N =  758, M = 1487, D = 11, K = 215)\n",
      "case  98: (score:     6,232,625, current ave:   10,411,188.15, N =  893, M = 1572, D = 29, K = 107)\n",
      "case  99: (score:     3,241,742, current ave:   10,339,493.69, N =  894, M = 1963, D = 30, K = 108)\n",
      "====================================================================================================\n",
      "ave: 10,339,493.69\n",
      "    average_score\n",
      "5        32153910\n",
      "8        22536643\n",
      "11       10499614\n",
      "14        9093355\n",
      "17        7225181\n",
      "20        5185009\n",
      "23        6252776\n",
      "26        5665534\n",
      "29        4176595\n"
     ]
    }
   ],
   "source": [
    "scores = run(100)"
   ]
  },
  {
   "cell_type": "code",
   "execution_count": 113,
   "metadata": {},
   "outputs": [
    {
     "data": {
      "text/plain": [
       "<AxesSubplot:>"
      ]
     },
     "execution_count": 113,
     "metadata": {},
     "output_type": "execute_result"
    },
    {
     "data": {
      "image/png": "[encoded data removed]",
      "text/plain": [
       "<Figure size 432x288 with 1 Axes>"
      ]
     },
     "metadata": {
      "needs_background": "light"
     },
     "output_type": "display_data"
    }
   ],
   "source": [
    "import math\n",
    "\n",
    "df = pd.DataFrame(scores, columns=[\"score\", \"case\", \"n\", \"m\", \"d\", \"k\"])\n",
    "df[\"m/n\"] = df.apply(lambda row: row[\"m\"] / row[\"n\"], axis=1)\n",
    "df[\"eval\"] = df.apply(lambda row: row[\"m/n\"] * math.pow(row[\"d\"], 0.35), axis=1)\n",
    "df[\"rank\"] = df[\"eval\"] // 1\n",
    "df[\"eval\"].plot()"
   ]
  },
  {
   "cell_type": "code",
   "execution_count": 114,
   "metadata": {},
   "outputs": [
    {
     "data": {
      "text/plain": [
       "rank\n",
       "2.0    57034114\n",
       "3.0    31325226\n",
       "4.0    12864403\n",
       "5.0     7928928\n",
       "6.0     4864986\n",
       "7.0     3240307\n",
       "8.0     2163679\n",
       "9.0     1699753\n",
       "Name: score, dtype: int64"
      ]
     },
     "execution_count": 114,
     "metadata": {},
     "output_type": "execute_result"
    }
   ],
   "source": [
    "df.groupby(\"rank\").score.mean().map(int)"
   ]
  },
  {
   "cell_type": "code",
   "execution_count": 115,
   "metadata": {},
   "outputs": [
    {
     "data": {
      "text/plain": [
       "'\\n   8,1e6,1e3 16,1e6,1e3 8,5e6,5e3 8,1e6,1e3       10s\\n2.0 59302678   59077023  58399568  57724508  56223626\\n3.0 32175973   32197821  32298820  32484980  31781236\\n4.0 13281367   13458989  13600687  13363124  13031903\\n5.0  8273514    8417348   8507003   8322449   8108446\\n6.0  5169774    5303359   5570191   5159940   4975796\\n7.0  3521217    3589971   3821718   3482773   3308358\\n8.0  2398959    2483392   2709762   2353771   2252053\\n9.0  1926327    2010287   2210740   1887219   1752856\\n'"
      ]
     },
     "execution_count": 115,
     "metadata": {},
     "output_type": "execute_result"
    }
   ],
   "source": [
    "\"\"\"\n",
    "   8,1e6,1e3 16,1e6,1e3 8,5e6,5e3 8,1e6,1e3       10s      30s\n",
    "2.0 59302678   59077023  58399568  57724508  56223626 57034114\n",
    "3.0 32175973   32197821  32298820  32484980  31781236 31325226\n",
    "4.0 13281367   13458989  13600687  13363124  13031903 12864403\n",
    "5.0  8273514    8417348   8507003   8322449   8108446  7928928\n",
    "6.0  5169774    5303359   5570191   5159940   4975796  4864986\n",
    "7.0  3521217    3589971   3821718   3482773   3308358  3240307\n",
    "8.0  2398959    2483392   2709762   2353771   2252053  2163679\n",
    "9.0  1926327    2010287   2210740   1887219   1752856  1699753\n",
    "\"\"\""
   ]
  }
 ],
 "metadata": {
  "kernelspec": {
   "display_name": "Python 3",
   "language": "python",
   "name": "python3"
  },
  "language_info": {
   "codemirror_mode": {
    "name": "ipython",
    "version": 3
   },
   "file_extension": ".py",
   "mimetype": "text/x-python",
   "name": "python",
   "nbconvert_exporter": "python",
   "pygments_lexer": "ipython3",
   "version": "3.10.4"
  },
  "orig_nbformat": 4,
  "vscode": {
   "interpreter": {
    "hash": "2a5fb540920344d2a30df49d123c0d51f1e8fc17e24494fc3a54f6f29186e4c7"
   }
  }
 },
 "nbformat": 4,
 "nbformat_minor": 2
}
